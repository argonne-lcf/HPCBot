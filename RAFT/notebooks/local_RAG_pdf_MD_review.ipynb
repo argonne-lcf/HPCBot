{
 "cells": [
  {
   "cell_type": "code",
   "execution_count": 12,
   "metadata": {},
   "outputs": [],
   "source": [
    "from langchain_community.document_loaders import PyPDFLoader\n",
    "from langchain_community.embeddings.ollama import OllamaEmbeddings\n",
    "from langchain_community.vectorstores import Chroma\n",
    "from langchain_community.chat_models import ChatOllama\n",
    "from langchain_core.prompts import PromptTemplate\n",
    "from langchain_core.runnables import RunnablePassthrough\n",
    "from langchain_core.output_parsers import StrOutputParser\n",
    "from langchain_text_splitters import RecursiveCharacterTextSplitter"
   ]
  },
  {
   "cell_type": "code",
   "execution_count": 8,
   "metadata": {},
   "outputs": [
    {
     "name": "stderr",
     "output_type": "stream",
     "text": [
      "OllamaEmbeddings: 100%|██████████| 212/212 [16:32<00:00,  4.68s/it] \n"
     ]
    },
    {
     "data": {
      "text/plain": [
       "Document(page_content='CHAPTER 6\\nReactivity and Dynamics at Liquid\\nInterfaces\\nIlan Benjamin\\nDepartmentofChemistryandBiochemistry,Universityof\\nCalifornia,SantaCruz,CA95064,USA\\nINTRODUCTION\\nMany phenomena of interest in science and technology take place at the\\ninterface between a liquid and a second phase. Corrosion, the operation of\\nsolar cells, and the water splitting reaction are examples of chemical processesthat take place at the liquid/solid interface.\\n1,2Electron transfer, ion transfer,\\nand proton transfer reactions at the interface between two immiscible liquids\\nare important for understanding processes such as ion extraction,3,4phase\\ntransfer catalysis,5,6drug delivery,7and ion channel dynamics in membrane\\nbiophysics.8The study of reactions at the water liquid/vapor interface is of\\ncrucial importance in atmospheric chemistry.9,10Understanding the behavior\\nof solute molecules adsorbed at these interfaces and their reactivity is also\\nof fundamental theoretical interest. The surface region is an inhomogeneousenvironment where the asymmetry in the intermolecular forces may produce\\nunique behavior.\\nBecause of its importance, it is not surprising that the study of the neat\\nliquidsurface,aswellasofsoluteadsorption,spectroscopy,andreactivity,goes\\nback many years. However, up until the last decade of the twentieth century\\nmost of the experimental studies involved the measurement of macroscopic\\nproperties such as surface tension and surface potential,\\n11,12and generally\\nspeaking, the spectroscopic techniques employed lacked the specificity and\\nReviewsinComputationalChemistry,Volume28 , First Edition.\\nEdited by Abby L. Parrill and Kenny B. Lipkowitz.\\n© 2015 John Wiley & Sons, Inc. Published 2015 by John Wiley & Sons, Inc.\\n205', metadata={'source': 'data/MD_review.pdf', 'page': 0})"
      ]
     },
     "execution_count": 8,
     "metadata": {},
     "output_type": "execute_result"
    }
   ],
   "source": [
    "# Load PDF file\n",
    "loader = PyPDFLoader(\"data/MD_review.pdf\")\n",
    "# Break into smaller chunks\n",
    "pages = loader.load_and_split(RecursiveCharacterTextSplitter(chunk_size = 2000, chunk_overlap = 100))\n",
    "# Embedded to local data vector database\n",
    "db  = Chroma.from_documents(pages, OllamaEmbeddings(model=\"mxbai-embed-large\",show_progress=True))\n",
    "pages[0]"
   ]
  },
  {
   "cell_type": "code",
   "execution_count": 9,
   "metadata": {},
   "outputs": [],
   "source": [
    "retriever = db.as_retriever(search_type=\"similarity\", search_kwargs={\"k\": 4}) # Turn VectorStore into a Retriever\n",
    "local_model = \"llama3\" # [Phi 3, Mistral, Gamma]\n",
    "llm = ChatOllama(model=local_model, temperature = 0) # temperature > 1 more creative, random, temperature < 1 deterministic, repetitive\n",
    "\n",
    "# System prompt\n",
    "prompt = PromptTemplate(\n",
    "    template=\"\"\"<|begin_of_text|><|start_header_id|>system<|end_header_id|> You are an assistant for question-answering tasks. \n",
    "    Use the following pieces of retrieved context to answer the question. If you don't know the answer, just say that you don't know. \n",
    "    <|eot_id|><|start_header_id|>user<|end_header_id|>\n",
    "    Question: {question} \n",
    "    Context: {context} \n",
    "    Answer: <|eot_id|><|start_header_id|>assistant<|end_header_id|>\"\"\",\n",
    "    input_variables=[\"question\", \"context\"],\n",
    ")\n",
    "\n",
    "def format_docs(docs):\n",
    "    return \"\\n\\n\".join(doc.page_content for doc in docs)\n",
    "\n",
    "rag_chain = (\n",
    "    {\"context\": retriever | format_docs, \"question\": RunnablePassthrough()}\n",
    "    | prompt\n",
    "    | llm\n",
    "    | StrOutputParser()\n",
    ")\n"
   ]
  },
  {
   "cell_type": "code",
   "execution_count": 10,
   "metadata": {},
   "outputs": [
    {
     "name": "stdout",
     "output_type": "stream",
     "text": [
      "given radial distribution function g(r), how do we find number of particle in a spherical shell of thickness dr?\n"
     ]
    },
    {
     "name": "stderr",
     "output_type": "stream",
     "text": [
      "OllamaEmbeddings: 100%|██████████| 1/1 [00:01<00:00,  1.17s/it]\n"
     ]
    },
    {
     "name": "stdout",
     "output_type": "stream",
     "text": [
      "According to the context, given the radial distribution function g(r), you can find the number of particles in a spherical shell of thickness dr and radius r centered on a given particle by multiplying the probability density by the volume element:\n",
      "\n",
      "4πr2g(r)ρLdr\n",
      "\n",
      "This is the number of particles in a spherical shell of thickness dr and radius r centered on a given particle.\n"
     ]
    }
   ],
   "source": [
    "question = \"given radial distribution function g(r), how do we find number of particle in a spherical shell of thickness dr?\"\n",
    "print(question)\n",
    "print(rag_chain.invoke(question))"
   ]
  },
  {
   "cell_type": "code",
   "execution_count": 11,
   "metadata": {},
   "outputs": [
    {
     "name": "stdout",
     "output_type": "stream",
     "text": [
      "What is a force field?\n"
     ]
    },
    {
     "name": "stderr",
     "output_type": "stream",
     "text": [
      "OllamaEmbeddings: 100%|██████████| 1/1 [00:03<00:00,  3.05s/it]\n"
     ]
    },
    {
     "name": "stdout",
     "output_type": "stream",
     "text": [
      "A force field is a type of potential energy function used in molecular simulations to describe the interactions between particles. In the context of polarizable force fields, it refers to a subset of many-body potentials that are important for simulating interfacial systems. These force fields take into account the induced dipoles and local electric fields within the system, which can affect the behavior of particles at liquid interfaces.\n"
     ]
    }
   ],
   "source": [
    "question = \"What is a force field?\"\n",
    "print(question)\n",
    "print(rag_chain.invoke(question))"
   ]
  },
  {
   "cell_type": "code",
   "execution_count": 14,
   "metadata": {},
   "outputs": [
    {
     "name": "stdout",
     "output_type": "stream",
     "text": [
      "How to set up a simulation for air/water interface?\n"
     ]
    },
    {
     "name": "stderr",
     "output_type": "stream",
     "text": [
      "OllamaEmbeddings: 100%|██████████| 1/1 [00:00<00:00,  1.39it/s]\n"
     ]
    },
    {
     "name": "stdout",
     "output_type": "stream",
     "text": [
      "Based on the provided context, it seems that setting up a simulation for an air/water interface involves using molecular dynamics (MD) simulations and considering various factors such as the type of dye molecule used, the solvation environment, and the roughness of the interface.\n",
      "\n",
      "To set up a simulation, you would need to:\n",
      "\n",
      "1. Choose a suitable MD software package, such as GROMACS or AMBER.\n",
      "2. Define the system: air/water interface with a specific dye molecule (e.g., DCE).\n",
      "3. Set up the initial conditions: temperature, pressure, and solvent properties (e.g., water density, surface tension).\n",
      "4. Use polarizable potentials to account for the interactions between the dye molecules and the surrounding environment.\n",
      "5. Run the simulation to generate the imaginary χ(2) spectra at the air/water interface.\n",
      "\n",
      "Keep in mind that the specific details of the simulation setup may vary depending on the research question or goal. If you're looking for more detailed guidance, I recommend consulting relevant literature or seeking advice from an expert in the field.\n"
     ]
    }
   ],
   "source": [
    "question = \"How to set up a simulation for air/water interface?\"\n",
    "print(question)\n",
    "print(rag_chain.invoke(question))"
   ]
  },
  {
   "cell_type": "code",
   "execution_count": null,
   "metadata": {},
   "outputs": [],
   "source": []
  }
 ],
 "metadata": {
  "kernelspec": {
   "display_name": "Python (hackathon)",
   "language": "python",
   "name": "hackathon"
  },
  "language_info": {
   "codemirror_mode": {
    "name": "ipython",
    "version": 3
   },
   "file_extension": ".py",
   "mimetype": "text/x-python",
   "name": "python",
   "nbconvert_exporter": "python",
   "pygments_lexer": "ipython3",
   "version": "3.12.2"
  },
  "orig_nbformat": 4
 },
 "nbformat": 4,
 "nbformat_minor": 2
}
