{
 "cells": [
  {
   "cell_type": "code",
   "execution_count": 2,
   "id": "863757f9-18be-446c-8458-81f8458bdffa",
   "metadata": {},
   "outputs": [
    {
     "data": {
      "application/vnd.jupyter.widget-view+json": {
       "model_id": "666398716aec403597278e397b11cacf",
       "version_major": 2,
       "version_minor": 0
      },
      "text/plain": [
       "Loading checkpoint shards:   0%|          | 0/4 [00:00<?, ?it/s]"
      ]
     },
     "metadata": {},
     "output_type": "display_data"
    },
    {
     "name": "stdout",
     "output_type": "stream",
     "text": [
      "Saving target model...\n"
     ]
    }
   ],
   "source": [
    "from transformers import AutoModelForCausalLM, AutoTokenizer, AutoConfig\n",
    "import torch\n",
    "from peft import PeftModel\n",
    "import os\n",
    "adapter=\"/home/btrungvo/workspace/HPCBot/adapters/\"\n",
    "model_name = \"HPCBot-Llama-3-1-8B-Instruct-QA-only\"\n",
    "adapter_path = os.path.join(adapter, model_name)\n",
    "base_model_path=\"meta-llama/Meta-Llama-3.1-8B-Instruct\"\n",
    "target_model_path= \"fine_tuned_models/\" + model_name\n",
    "\n",
    "config = AutoConfig.from_pretrained(base_model_path)\n",
    "base_model = AutoModelForCausalLM.from_pretrained(\n",
    "    base_model_path\n",
    ")\n",
    "\n",
    "merged_model = PeftModel.from_pretrained(base_model, adapter_path)\n",
    "\n",
    "tokenizer = AutoTokenizer.from_pretrained(\n",
    "    adapter_path,\n",
    "    trust_remote_code=True,\n",
    ")\n",
    "merged_model = merged_model.merge_and_unload()\n",
    "\n",
    "print(\"Saving target model...\")\n",
    "merged_model.save_pretrained(target_model_path)\n",
    "tokenizer.save_pretrained(target_model_path)\n",
    "config.save_pretrained(target_model_path)"
   ]
  },
  {
   "cell_type": "code",
   "execution_count": null,
   "id": "6b06c47c-9a3a-48b1-a375-b1e577a9eae1",
   "metadata": {},
   "outputs": [],
   "source": []
  }
 ],
 "metadata": {
  "kernelspec": {
   "display_name": "autotrain_venv",
   "language": "python",
   "name": "autotrain_venv"
  },
  "language_info": {
   "codemirror_mode": {
    "name": "ipython",
    "version": 3
   },
   "file_extension": ".py",
   "mimetype": "text/x-python",
   "name": "python",
   "nbconvert_exporter": "python",
   "pygments_lexer": "ipython3",
   "version": "3.12.2"
  }
 },
 "nbformat": 4,
 "nbformat_minor": 5
}
